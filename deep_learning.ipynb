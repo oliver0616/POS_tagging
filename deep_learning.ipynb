{
 "cells": [
  {
   "cell_type": "markdown",
   "metadata": {},
   "source": [
    "# Deep Learning Part of Speech Tagger <br>\n",
    "Using Keras and Tensorflow to create feedforward nueral network <br>\n",
    "## Functions <br>\n",
    "Imports:\n"
   ]
  },
  {
   "cell_type": "code",
   "execution_count": 1,
   "metadata": {},
   "outputs": [
    {
     "name": "stderr",
     "output_type": "stream",
     "text": [
      "Using TensorFlow backend.\n"
     ]
    }
   ],
   "source": [
    "import random\n",
    "import nltk\n",
    "from nltk.corpus import treebank\n",
    "import numpy as np\n",
    "from sklearn.feature_extraction import DictVectorizer\n",
    "from sklearn.preprocessing import LabelEncoder\n",
    "from keras.layers import Dense, Dropout, Activation\n",
    "from keras.models import Sequential\n",
    "from keras.utils import np_utils, plot_model\n",
    "from keras.wrappers.scikit_learn import KerasClassifier\n",
    "import matplotlib.pyplot as plt\n",
    "CUSTOM_SEED = 42"
   ]
  },
  {
   "cell_type": "markdown",
   "metadata": {},
   "source": [
    "Basic features to feed in nueral network"
   ]
  },
  {
   "cell_type": "code",
   "execution_count": 2,
   "metadata": {},
   "outputs": [],
   "source": [
    "def add_basic_features(sentence_terms, index):\n",
    "    term = sentence_terms[index]\n",
    "    return {\n",
    "        'nb_terms': len(sentence_terms),\n",
    "        'term': term,\n",
    "        'is_first': index == 0,\n",
    "        'is_last': index == len(sentence_terms) - 1,\n",
    "        'is_capitalized': term[0].upper() == term[0],\n",
    "        'is_all_caps': term.upper() == term,\n",
    "        'is_all_lower': term.lower() == term,\n",
    "        'prefix-1': term[0],\n",
    "        'prefix-2': term[:2],\n",
    "        'prefix-3': term[:3],\n",
    "        'suffix-1': term[-1],\n",
    "        'suffix-2': term[-2:],\n",
    "        'suffix-3': term[-3:],\n",
    "        'prev_word': '' if index == 0 else sentence_terms[index - 1],\n",
    "        'next_word': '' if index == len(sentence_terms) - 1 else sentence_terms[index + 1]\n",
    "    }"
   ]
  },
  {
   "cell_type": "markdown",
   "metadata": {},
   "source": [
    "Untag the sentence and return just the words"
   ]
  },
  {
   "cell_type": "code",
   "execution_count": 3,
   "metadata": {},
   "outputs": [],
   "source": [
    "def untag(tagged_sentence):\n",
    "    return [w for w, _ in tagged_sentence]"
   ]
  },
  {
   "cell_type": "markdown",
   "metadata": {},
   "source": [
    "Return list of basic feature in x and return list of all tags in y"
   ]
  },
  {
   "cell_type": "code",
   "execution_count": 4,
   "metadata": {},
   "outputs": [],
   "source": [
    "def transform_to_dataset(tagged_sentences):\n",
    "    X, y = [], []\n",
    "    for pos_tags in tagged_sentences:\n",
    "        for index, (term, class_) in enumerate(pos_tags):\n",
    "            # Add basic NLP features for each sentence term\n",
    "            X.append(add_basic_features(untag(pos_tags), index))\n",
    "            y.append(class_)\n",
    "    return X, y"
   ]
  },
  {
   "cell_type": "markdown",
   "metadata": {},
   "source": [
    "Construct, compile and return the keras model <br>\n",
    "sequential model allow user to construct easily that simply create each layer one by one <br>\n",
    "Dropout regularization prevent overfitting, in our case its 20%"
   ]
  },
  {
   "cell_type": "code",
   "execution_count": 5,
   "metadata": {},
   "outputs": [],
   "source": [
    "def build_model(input_dim, hidden_neurons, output_dim):\n",
    "    model = Sequential([\n",
    "        Dense(hidden_neurons, input_dim=input_dim),\n",
    "        Activation('relu'),\n",
    "        Dropout(0.2),\n",
    "        Dense(hidden_neurons),\n",
    "        Activation('relu'),\n",
    "        Dropout(0.2),\n",
    "        Dense(output_dim, activation='softmax')\n",
    "    ])\n",
    "    model.compile(loss='categorical_crossentropy', optimizer='adam', metrics=['accuracy'])\n",
    "    return model"
   ]
  },
  {
   "cell_type": "markdown",
   "metadata": {},
   "source": [
    "Create a plot that show model performence accuracy and loss through out epochs"
   ]
  },
  {
   "cell_type": "code",
   "execution_count": 6,
   "metadata": {},
   "outputs": [],
   "source": [
    "def plot_model_performance(train_loss, train_acc, train_val_loss, train_val_acc):\n",
    "    green = '#72C29B'\n",
    "    orange = '#FFA577'\n",
    "    fig, (ax1, ax2) = plt.subplots(2, figsize=(10, 8))\n",
    "    ax1.plot(range(1, len(train_loss) + 1), train_loss, green, linewidth=1,\n",
    "             label='training')\n",
    "    ax1.plot(range(1, len(train_val_loss) + 1), train_val_loss, orange,\n",
    "            linewidth=1, label='validation')\n",
    "    ax1.set_xlabel('# epoch')\n",
    "    ax1.set_ylabel('loss')\n",
    "    ax1.tick_params('y')\n",
    "    ax1.legend(loc='upper right', shadow=False)\n",
    "    ax1.set_title('Model loss through #epochs', fontweight='bold')\n",
    "    ax2.plot(range(1, len(train_acc) + 1), train_acc, green, linewidth=1,\n",
    "             label='training')\n",
    "    ax2.plot(range(1, len(train_val_acc) + 1), train_val_acc, orange,\n",
    "             linewidth=1, label='validation')\n",
    "    ax2.set_xlabel('# epoch')\n",
    "    ax2.set_ylabel('accuracy')\n",
    "    ax2.tick_params('y')\n",
    "    ax2.legend(loc='lower right', shadow=False)\n",
    "    ax2.set_title('Model accuracy through #epochs', fontweight='bold')\n",
    "    #with plt.xkcd():\n",
    "    plt.tight_layout()\n",
    "    plt.show()"
   ]
  },
  {
   "cell_type": "markdown",
   "metadata": {},
   "source": [
    "## Main\n",
    "Use nltk preTagged data, treebank as input data. For performance purpose use only the first 100 sentences.Store all the treebank tags"
   ]
  },
  {
   "cell_type": "code",
   "execution_count": 7,
   "metadata": {},
   "outputs": [],
   "source": [
    "np.random.seed(CUSTOM_SEED)\n",
    "sentences = treebank.tagged_sents(tagset='universal')\n",
    "tags = set([tag for sentence in treebank.tagged_sents() for _, tag in sentence])"
   ]
  },
  {
   "cell_type": "markdown",
   "metadata": {},
   "source": [
    "Seperate the data into Train set 60%, validation set 20% and Test set 20%. "
   ]
  },
  {
   "cell_type": "code",
   "execution_count": 8,
   "metadata": {},
   "outputs": [],
   "source": [
    "train_test_cutoff = int(.80 * len(sentences))\n",
    "training_sentences = sentences[:train_test_cutoff]\n",
    "testing_sentences = sentences[train_test_cutoff:]\n",
    "train_val_cutoff = int(.25 * len(training_sentences))\n",
    "validation_sentences = training_sentences[:train_val_cutoff]\n",
    "training_sentences = training_sentences[train_val_cutoff:]"
   ]
  },
  {
   "cell_type": "markdown",
   "metadata": {},
   "source": [
    "#### Encoding <br>\n",
    "extract features and tags from the setences. X as input variables, y as output variables"
   ]
  },
  {
   "cell_type": "code",
   "execution_count": 9,
   "metadata": {},
   "outputs": [],
   "source": [
    "X_train, y_train = transform_to_dataset(training_sentences)\n",
    "X_test, y_test = transform_to_dataset(testing_sentences)\n",
    "X_val, y_val = transform_to_dataset(validation_sentences)"
   ]
  },
  {
   "cell_type": "markdown",
   "metadata": {},
   "source": [
    "fit DictVectorizer another word construct the DicVectorizer to vectorize the data later on"
   ]
  },
  {
   "cell_type": "code",
   "execution_count": 10,
   "metadata": {},
   "outputs": [
    {
     "data": {
      "text/plain": [
       "DictVectorizer(dtype=<class 'numpy.float64'>, separator='=', sort=True,\n",
       "        sparse=False)"
      ]
     },
     "execution_count": 10,
     "metadata": {},
     "output_type": "execute_result"
    }
   ],
   "source": [
    "dict_vectorizer = DictVectorizer(sparse=False)\n",
    "dict_vectorizer.fit(X_train + X_test + X_val)"
   ]
  },
  {
   "cell_type": "markdown",
   "metadata": {},
   "source": [
    "covert X train set, test set and x validation into numpy matrices"
   ]
  },
  {
   "cell_type": "code",
   "execution_count": 11,
   "metadata": {},
   "outputs": [],
   "source": [
    "X_train = dict_vectorizer.transform(X_train)\n",
    "X_test = dict_vectorizer.transform(X_test)\n",
    "X_val = dict_vectorizer.transform(X_val)"
   ]
  },
  {
   "cell_type": "markdown",
   "metadata": {},
   "source": [
    "fit LabelEncoder another word construct the LabelEncoder to vectorize the data later on"
   ]
  },
  {
   "cell_type": "code",
   "execution_count": 12,
   "metadata": {},
   "outputs": [
    {
     "data": {
      "text/plain": [
       "LabelEncoder()"
      ]
     },
     "execution_count": 12,
     "metadata": {},
     "output_type": "execute_result"
    }
   ],
   "source": [
    "label_encoder = LabelEncoder()\n",
    "label_encoder.fit(y_train + y_test + y_val)"
   ]
  },
  {
   "cell_type": "markdown",
   "metadata": {},
   "source": [
    "Encode class value as integers and convert integer to dummy variables, one hot encoded"
   ]
  },
  {
   "cell_type": "code",
   "execution_count": 13,
   "metadata": {},
   "outputs": [],
   "source": [
    "y_train = label_encoder.transform(y_train)\n",
    "y_test = label_encoder.transform(y_test)\n",
    "y_val = label_encoder.transform(y_val)\n",
    "\n",
    "y_train = np_utils.to_categorical(y_train)\n",
    "y_test = np_utils.to_categorical(y_test)\n",
    "y_val = np_utils.to_categorical(y_val)"
   ]
  },
  {
   "cell_type": "markdown",
   "metadata": {},
   "source": [
    "Declare parameters for the models"
   ]
  },
  {
   "cell_type": "code",
   "execution_count": 14,
   "metadata": {},
   "outputs": [],
   "source": [
    "model_params = {\n",
    "    'build_fn': build_model,\n",
    "    'input_dim': X_train.shape[1],\n",
    "    'hidden_neurons': 512,\n",
    "    'output_dim': y_train.shape[1],\n",
    "    'epochs': 5,\n",
    "    'batch_size': 256,\n",
    "    'verbose': 1,\n",
    "    'validation_data': (X_val, y_val),\n",
    "    'shuffle': True\n",
    "}"
   ]
  },
  {
   "cell_type": "markdown",
   "metadata": {},
   "source": [
    "create sklearn classifier and fit the classifier"
   ]
  },
  {
   "cell_type": "code",
   "execution_count": 15,
   "metadata": {},
   "outputs": [
    {
     "name": "stdout",
     "output_type": "stream",
     "text": [
      "Train on 61107 samples, validate on 19530 samples\n",
      "Epoch 1/5\n",
      "61107/61107 [==============================] - 276s 5ms/step - loss: 0.3906 - acc: 0.8848 - val_loss: 0.1601 - val_acc: 0.9483\n",
      "Epoch 2/5\n",
      "61107/61107 [==============================] - 270s 4ms/step - loss: 0.0734 - acc: 0.9766 - val_loss: 0.1383 - val_acc: 0.9596\n",
      "Epoch 3/5\n",
      "61107/61107 [==============================] - 297s 5ms/step - loss: 0.0370 - acc: 0.9882 - val_loss: 0.1480 - val_acc: 0.9571\n",
      "Epoch 4/5\n",
      "61107/61107 [==============================] - 309s 5ms/step - loss: 0.0324 - acc: 0.9897 - val_loss: 0.1621 - val_acc: 0.9580\n",
      "Epoch 5/5\n",
      "61107/61107 [==============================] - 255s 4ms/step - loss: 0.0193 - acc: 0.9933 - val_loss: 0.1649 - val_acc: 0.9575\n"
     ]
    }
   ],
   "source": [
    "clf = KerasClassifier(**model_params)\n",
    "hist = clf.fit(X_train, y_train)"
   ]
  },
  {
   "cell_type": "markdown",
   "metadata": {},
   "source": [
    "plot the model performence <br>\n",
    "The loss is calculated on training and validation and its interperation is how well the model is doing for these two sets. <br>\n",
    "The accuracy of a model is usually determined after the model parameters are learned and fixed and no learning is taking place"
   ]
  },
  {
   "cell_type": "code",
   "execution_count": 16,
   "metadata": {},
   "outputs": [
    {
     "data": {
      "image/png": "[encoded data removed]",
      "text/plain": [
       "<Figure size 720x576 with 2 Axes>"
      ]
     },
     "metadata": {},
     "output_type": "display_data"
    }
   ],
   "source": [
    "plot_model_performance(\n",
    "    train_loss=hist.history.get('loss', []),\n",
    "    train_acc=hist.history.get('acc', []),\n",
    "    train_val_loss=hist.history.get('val_loss', []),\n",
    "    train_val_acc=hist.history.get('val_acc', [])\n",
    ")"
   ]
  },
  {
   "cell_type": "code",
   "execution_count": 17,
   "metadata": {},
   "outputs": [
    {
     "name": "stdout",
     "output_type": "stream",
     "text": [
      "model accuracy: 0.9658665602075952\n"
     ]
    }
   ],
   "source": [
    "score = clf.score(X_test, y_test, verbose=0)\n",
    "print('model accuracy: {}'.format(score))"
   ]
  },
  {
   "attachments": {},
   "cell_type": "markdown",
   "metadata": {},
   "source": [
    "## Architecture of the Multilayer perceptron and Parameters <br>\n",
    "Sequential model: The sequential model allow us to simply layout the structure of the nueral network <br>\n",
    "Multilayer Perceptron: Multilayer Perceptron is a class of feedforward network. The network use back-propagation algorithm to train the network <br> \n",
    "Rectified Linear Units: Activation function we are using is Rectified Linear Units (ReLU). <br>\n",
    "Dropout: The dropout allow us to prevent overfitting for the model and we would use 20% <br>\n",
    "Softmax Function: Softmax function convert k-dimension matrix outputs to probabilities, also known as normalized exponential function <br>\n",
    "Cross Entropy: measure performence of the classification model output is probability value between 0 and 1\n",
    "Adam Optimizer: used to update network weights iterate base on trainning data\n",
    "\n",
    "#### Recitified Linear Units(ReLU)"
   ]
  },
  {
   "cell_type": "markdown",
   "metadata": {},
   "source": [
    "$$f(x)=max(0,x)$$"
   ]
  },
  {
   "attachments": {
    "Relu.png": {
     "image/png": "[encoded data removed]"
    }
   },
   "cell_type": "markdown",
   "metadata": {},
   "source": [
    "x: input to the neuron <br>\n",
    "when $x < 0$, output 0 <br>\n",
    "when $x \\geq 0$, output a linear function <br>\n",
    "![Relu.png](attachment:Relu.png)"
   ]
  },
  {
   "cell_type": "markdown",
   "metadata": {},
   "source": [
    "## Resources:\n",
    "Deep Learning Program <br>\n",
    "\n",
    "@online{ <br>\n",
    "  author = {Bellec, Axel}, <br>\n",
    "  title = {Part-of-Speech tagging tutorial with the Keras Deep Learning library - Cdiscount TechBlog}, <br>\n",
    "  year = {2017}, <br>\n",
    "  url = {https://techblog.cdiscount.com/part-speech-tagging-tutorial-keras-deep-learning-library/} <br>\n",
    "} <br>\n",
    "\n",
    "ReLU <br>\n",
    "\n",
    "@article{DBLP:journals/corr/abs-1803-08375, <br>\n",
    "  author    = {Abien Fred Agarap}, <br>\n",
    "  title     = {Deep Learning using Rectified Linear Units (ReLU)}, <br>\n",
    "  journal   = {CoRR}, <br>\n",
    "  volume    = {abs/1803.08375}, <br>\n",
    "  year      = {2018}, <br>\n",
    "  url       = {http://arxiv.org/abs/1803.08375}, <br>\n",
    "  archivePrefix = {arXiv}, <br>\n",
    "  eprint    = {1803.08375}, <br>\n",
    "  timestamp = {Wed, 11 Apr 2018 11:12:46 +0200}, <br>\n",
    "  biburl    = {https://dblp.org/rec/bib/journals/corr/abs-1803-08375}, <br>\n",
    "  bibsource = {dblp computer science bibliography, https://dblp.org} <br>\n",
    "} <br>\n",
    "\n",
    "Cross-Entropy <br>\n",
    "\n",
    "@inproceedings{Mannor:2005:CEM:1102351.1102422, <br>\n",
    " author = {Mannor, Shie and Peleg, Dori and Rubinstein, Reuven}, <br>\n",
    " title = {The Cross Entropy Method for Classification}, <br>\n",
    " booktitle = {Proceedings of the 22Nd International Conference on Machine Learning}, <br>\n",
    " series = {ICML '05}, <br>\n",
    " year = {2005}, <br>\n",
    " isbn = {1-59593-180-5}, <br>\n",
    " location = {Bonn, Germany}, <br>\n",
    " pages = {561--568}, <br>\n",
    " numpages = {8}, <br>\n",
    " url = {http://doi.acm.org/10.1145/1102351.1102422}, <br>\n",
    " doi = {10.1145/1102351.1102422}, <br>\n",
    " acmid = {1102422}, <br>\n",
    " publisher = {ACM}, <br>\n",
    " address = {New York, NY, USA}, <br>\n",
    "} <br>\n",
    "\n",
    "AdamOptimizer <br>\n",
    "\n",
    "@article{DBLP:journals/corr/KingmaB14, <br>\n",
    "  author    = {Diederik P. Kingma and <br>\n",
    "               Jimmy Ba}, <br>\n",
    "  title     = {Adam: {A} Method for Stochastic Optimization}, <br>\n",
    "  journal   = {CoRR}, <br>\n",
    "  volume    = {abs/1412.6980}, <br>\n",
    "  year      = {2014}, <br>\n",
    "  url       = {http://arxiv.org/abs/1412.6980}, <br>\n",
    "  archivePrefix = {arXiv}, <br>\n",
    "  eprint    = {1412.6980}, <br>\n",
    "  timestamp = {Wed, 07 Jun 2017 14:40:52 +0200}, <br>\n",
    "  biburl    = {https://dblp.org/rec/bib/journals/corr/KingmaB14}, <br>\n",
    "  bibsource = {dblp computer science bibliography, https://dblp.org} <br>\n",
    "} <br>\n",
    "\n",
    "Overfitting <br>\n",
    "\n",
    "@article{DBLP:journals/corr/abs-1207-0580, <br>\n",
    "  author    = {Geoffrey E. Hinton and <br>\n",
    "               Nitish Srivastava and <br>\n",
    "               Alex Krizhevsky and <br>\n",
    "               Ilya Sutskever and <br>\n",
    "               Ruslan Salakhutdinov}, <br>\n",
    "  title     = {Improving neural networks by preventing co-adaptation of feature detectors}, <br>\n",
    "  journal   = {CoRR}, <br>\n",
    "  volume    = {abs/1207.0580}, <br>\n",
    "  year      = {2012}, <br>\n",
    "  url       = {http://arxiv.org/abs/1207.0580}, <br>\n",
    "  archivePrefix = {arXiv}, <br>\n",
    "  eprint    = {1207.0580}, <br>\n",
    "  timestamp = {Wed, 07 Jun 2017 14:40:12 +0200}, <br>\n",
    "  biburl    = {https://dblp.org/rec/bib/journals/corr/abs-1207-0580}, <br>\n",
    "  bibsource = {dblp computer science bibliography, https://dblp.org} <br>\n",
    "} <br>\n",
    "\n"
   ]
  },
  {
   "cell_type": "code",
   "execution_count": null,
   "metadata": {},
   "outputs": [],
   "source": []
  }
 ],
 "metadata": {
  "kernelspec": {
   "display_name": "Python 3",
   "language": "python",
   "name": "python3"
  },
  "language_info": {
   "codemirror_mode": {
    "name": "ipython",
    "version": 3
   },
   "file_extension": ".py",
   "mimetype": "text/x-python",
   "name": "python",
   "nbconvert_exporter": "python",
   "pygments_lexer": "ipython3",
   "version": "3.6.5"
  }
 },
 "nbformat": 4,
 "nbformat_minor": 2
}
